{
 "cells": [
  {
   "cell_type": "code",
   "execution_count": 1,
   "metadata": {},
   "outputs": [],
   "source": [
    "from classifier import load_data,tokenize, feature_extractor, classifier_agent\n",
    "\n",
    "import numpy as np\n",
    "import random"
   ]
  },
  {
   "cell_type": "code",
   "execution_count": 2,
   "metadata": {},
   "outputs": [
    {
     "name": "stdout",
     "output_type": "stream",
     "text": [
      "Creating a classifier agent:\n",
      "Loading and processing data ...\n"
     ]
    }
   ],
   "source": [
    "print(\"Creating a classifier agent:\")\n",
    "\n",
    "with open('data/vocab.txt') as file:\n",
    "    reading = file.readlines()\n",
    "    vocab_list = [item.strip() for item in reading]\n",
    "    vocab_dict = {item: i for i, item in enumerate(vocab_list)}\n",
    "\n",
    "    print(\"Loading and processing data ...\")\n",
    "\n",
    "    sentences_pos = load_data(\"data/training_pos.txt\")\n",
    "    sentences_neg = load_data(\"data/training_neg.txt\")\n",
    "\n",
    "    train_sentences = sentences_pos + sentences_neg\n",
    "\n",
    "    train_labels = [1 for i in range(len(sentences_pos))] + [0 for i in range(len(sentences_neg))]\n"
   ]
  },
  {
   "cell_type": "code",
   "execution_count": 4,
   "metadata": {},
   "outputs": [
    {
     "data": {
      "text/plain": [
       "(5000, 5000, 10000, 10000)"
      ]
     },
     "execution_count": 4,
     "metadata": {},
     "output_type": "execute_result"
    }
   ],
   "source": [
    "len(sentences_pos), len(sentences_neg), len(train_sentences), len(train_labels)"
   ]
  },
  {
   "cell_type": "code",
   "execution_count": null,
   "metadata": {},
   "outputs": [],
   "source": []
  }
 ],
 "metadata": {
  "kernelspec": {
   "display_name": "transformers_v4",
   "language": "python",
   "name": "python3"
  },
  "language_info": {
   "codemirror_mode": {
    "name": "ipython",
    "version": 3
   },
   "file_extension": ".py",
   "mimetype": "text/x-python",
   "name": "python",
   "nbconvert_exporter": "python",
   "pygments_lexer": "ipython3",
   "version": "3.9.18"
  }
 },
 "nbformat": 4,
 "nbformat_minor": 2
}
